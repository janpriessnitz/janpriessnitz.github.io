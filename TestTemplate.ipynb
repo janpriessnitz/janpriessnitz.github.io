{
 "cells": [
  {
   "cell_type": "code",
   "execution_count": 2,
   "metadata": {},
   "outputs": [],
   "source": [
    "#!/usr/bin/env python3\n",
    "\n",
    "from jinja2 import Template\n",
    "import os"
   ]
  },
  {
   "cell_type": "code",
   "execution_count": 22,
   "metadata": {},
   "outputs": [],
   "source": [
    "# Get File Content in String\n",
    "jinja2_template_string = open(\"single_system.html.tpl\", 'r').read()\n",
    "\n",
    "# Create Template Object\n",
    "template = Template(jinja2_template_string)\n",
    "\n",
    "def render_one(fl, soc):\n",
    "  fs_plots = [{\"title\": \"kx=0, mu=-50 meV\", \"src\": \"no3_plots_v3/{}/{}/plots/fs-mu{}.png\".format(fl, soc, mu), \"width\": 600} for mu in [\"-0.05\", \"0.0\"]]\n",
    "  bands_plots = [{\"title\": \"\", \"src\": \"no3_plots_v3/{}/{}/plots/bands-spin-{}.png\".format(fl, soc, ispin), \"width\": 700} for ispin in [0, 1, 2]]\n",
    "\n",
    "  html_template_string = template.render(plots=[\n",
    "    {\"title\": \"Fermi surface\", \"plots\": fs_plots},\n",
    "    {\"title\": \"Band structure\", \"plots\": bands_plots},\n",
    "  ])\n",
    "  open(\"single-{}-{}.html\".format(fl, soc), \"w\").write(html_template_string)\n",
    "\n",
    "for fl in [\"dressel\", \"hedgehog\", \"rashba\", \"weyl\", \"coll\", \"nonmag\"]:\n",
    "  for soc in [\"nosoc\", \"soc\"]:\n",
    "    try:\n",
    "      render_one(fl, soc)\n",
    "    except Exception as e:\n",
    "      print(\"error\", fl, soc, e)\n",
    "      continue"
   ]
  },
  {
   "cell_type": "code",
   "execution_count": 23,
   "metadata": {},
   "outputs": [],
   "source": [
    "# Get File Content in String\n",
    "jinja2_template_string = open(\"main.html.tpl\", 'r').read()\n",
    "\n",
    "# Create Template Object\n",
    "template = Template(jinja2_template_string)"
   ]
  },
  {
   "cell_type": "code",
   "execution_count": null,
   "metadata": {},
   "outputs": [],
   "source": []
  }
 ],
 "metadata": {
  "kernelspec": {
   "display_name": "Python 3",
   "language": "python",
   "name": "python3"
  },
  "language_info": {
   "codemirror_mode": {
    "name": "ipython",
    "version": 3
   },
   "file_extension": ".py",
   "mimetype": "text/x-python",
   "name": "python",
   "nbconvert_exporter": "python",
   "pygments_lexer": "ipython3",
   "version": "3.12.3"
  }
 },
 "nbformat": 4,
 "nbformat_minor": 2
}
